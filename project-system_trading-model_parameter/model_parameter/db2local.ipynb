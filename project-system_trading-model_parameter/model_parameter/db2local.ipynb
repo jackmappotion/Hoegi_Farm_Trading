{
 "cells": [
  {
   "cell_type": "code",
   "execution_count": 1,
   "metadata": {},
   "outputs": [],
   "source": [
    "import pandas as pd\n",
    "from controller.db import get_db_controller\n",
    "from preprocessor.db import DB_PREPROCESSOR"
   ]
  },
  {
   "cell_type": "code",
   "execution_count": 2,
   "metadata": {},
   "outputs": [],
   "source": [
    "db_controller = get_db_controller()\n",
    "db_preprocessor = DB_PREPROCESSOR()"
   ]
  },
  {
   "cell_type": "code",
   "execution_count": 3,
   "metadata": {},
   "outputs": [],
   "source": [
    "# dart\n",
    "\n",
    "## dart_fundamental\n",
    "dart_fundamental_df = db_controller.get_dart_fundamental_df()\n",
    "pps_dart_fundamental_df = db_preprocessor.get_pps_dart_fundamental_df(dart_fundamental_df)\n",
    "pps_dart_fundamental_df.to_csv(\"./data/dart_fundamental_df.csv\")\n",
    "\n",
    "\n",
    "## dart_info\n",
    "dart_info_df = db_controller.get_dart_info_df()\n",
    "pps_dart_info_df = db_preprocessor.get_pps_dart_info_df(dart_info_df)\n",
    "pps_dart_info_df.to_csv(\"./data/dart_info_df.csv\")"
   ]
  },
  {
   "cell_type": "code",
   "execution_count": 4,
   "metadata": {},
   "outputs": [],
   "source": [
    "# fdr\n",
    "\n",
    "## fdr_info\n",
    "fdr_info_df = db_controller.get_fdr_info_df()\n",
    "pps_fdr_info_df = db_preprocessor.get_pps_fdr_info_df(fdr_info_df)\n",
    "pps_fdr_info_df.to_csv(\"./data/fdr_info_df.csv\")\n",
    "\n",
    "## fdr_ohlcv\n",
    "fdr_ohlcv_df = db_controller.get_fdr_ohlcv_df()\n",
    "pps_fdr_ohlcv_df = db_preprocessor.get_pps_fdr_ohlcv_df(fdr_ohlcv_df)\n",
    "pps_fdr_ohlcv_df.to_csv(\"./data/fdr_ohlcv_df.csv\")"
   ]
  },
  {
   "cell_type": "code",
   "execution_count": 5,
   "metadata": {},
   "outputs": [],
   "source": [
    "# pykrx\n",
    "\n",
    "## pykrx_info\n",
    "pykrx_info_df = db_controller.get_pykrx_info_df()\n",
    "pps_pykrx_info_df = db_preprocessor.get_pps_pykrx_info_df(pykrx_info_df)\n",
    "pps_pykrx_info_df.to_csv(\"./data/pykrx_info_df.csv\")"
   ]
  },
  {
   "cell_type": "code",
   "execution_count": 6,
   "metadata": {},
   "outputs": [],
   "source": [
    "# krx\n",
    "\n",
    "## krx_info\n",
    "krx_info_df = db_controller.get_krx_info_df()\n",
    "pps_krx_info_df = db_preprocessor.get_pps_krx_info_df(krx_info_df)\n",
    "pps_krx_info_df.to_csv(\"./data/krx_info_df.csv\")"
   ]
  }
 ],
 "metadata": {
  "kernelspec": {
   "display_name": "quant_trading",
   "language": "python",
   "name": "python3"
  },
  "language_info": {
   "codemirror_mode": {
    "name": "ipython",
    "version": 3
   },
   "file_extension": ".py",
   "mimetype": "text/x-python",
   "name": "python",
   "nbconvert_exporter": "python",
   "pygments_lexer": "ipython3",
   "version": "3.10.13"
  }
 },
 "nbformat": 4,
 "nbformat_minor": 2
}
