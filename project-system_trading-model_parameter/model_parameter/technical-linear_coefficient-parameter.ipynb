{
 "cells": [
  {
   "cell_type": "code",
   "execution_count": 1,
   "metadata": {},
   "outputs": [],
   "source": [
    "import matplotlib.pyplot as plt\n",
    "import seaborn as sns\n",
    "import pandas as pd\n",
    "import numpy as np\n",
    "from itertools import combinations\n",
    "\n",
    "from processor.fdr import FDR_INFO_PROCESSOR, FDR_OHLCV_PREPROCESSOR\n",
    "from processor.factor.technical import LINEAR_COEFFICENT_FACTOR_PROCESSOR\n",
    "from processor.factor.parameter import FACTOR_PARAMETER_PROCESSOR\n",
    "\n",
    "from analyser.factor import FACTOR_ANALYSER"
   ]
  },
  {
   "cell_type": "code",
   "execution_count": 2,
   "metadata": {},
   "outputs": [],
   "source": [
    "CFG = {\n",
    "    \"analysis_date\": \"2023-11-01\",\n",
    "    \n",
    "    \"LINEAR_COEFFICENT_FACTOR_CFG\": {\n",
    "        \"factors\": [\"Close\", \"VolumeRotation\"],\n",
    "        \"moving_average_window\": 10,\n",
    "        \"coef_recent_n\": 30,\n",
    "    },\n",
    "    \n",
    "    \"FACTOR_ANALYSIS_CFG\": {\n",
    "        \"profit_recent_n\": 20,\n",
    "    },\n",
    "}"
   ]
  },
  {
   "cell_type": "code",
   "execution_count": 3,
   "metadata": {},
   "outputs": [],
   "source": [
    "# fdr_info\n",
    "fdr_info_df = pd.read_csv(\"./data/fdr_info_df.csv\", index_col=0)\n",
    "fdr_info_processor = FDR_INFO_PROCESSOR(fdr_info_df)"
   ]
  },
  {
   "cell_type": "code",
   "execution_count": 4,
   "metadata": {},
   "outputs": [],
   "source": [
    "# fdr_ohlcv\n",
    "fdr_ohlcv_df = pd.read_csv(\"./data/fdr_ohlcv_df.csv\", index_col=0)\n",
    "\n",
    "fdr_ohlcv_preprocessor = FDR_OHLCV_PREPROCESSOR(fdr_ohlcv_df)\n",
    "pps_fdr_ohlcv_df = fdr_ohlcv_preprocessor.get_pps_fdr_ohlcv_df()"
   ]
  },
  {
   "cell_type": "code",
   "execution_count": 5,
   "metadata": {},
   "outputs": [],
   "source": [
    "# split ohlcv\n",
    "\n",
    "future_ohlcv_df = pps_fdr_ohlcv_df[CFG[\"analysis_date\"] < pps_fdr_ohlcv_df[\"Date\"]].copy()\n",
    "ohlcv_df = pps_fdr_ohlcv_df[pps_fdr_ohlcv_df[\"Date\"] < CFG[\"analysis_date\"]].copy()"
   ]
  },
  {
   "cell_type": "code",
   "execution_count": 6,
   "metadata": {},
   "outputs": [],
   "source": [
    "# get linear_coef_factors_df\n",
    "linear_coefficent_factor_processor = LINEAR_COEFFICENT_FACTOR_PROCESSOR(ohlcv_df, fdr_info_processor)\n",
    "linear_coef_factors_df = linear_coefficent_factor_processor.get_linear_coef_factor_df(\n",
    "    CFG[\"LINEAR_COEFFICENT_FACTOR_CFG\"]\n",
    ")"
   ]
  },
  {
   "cell_type": "code",
   "execution_count": 7,
   "metadata": {},
   "outputs": [],
   "source": [
    "# Analysis\n",
    "factor_analyser = FACTOR_ANALYSER(linear_coef_factors_df)"
   ]
  },
  {
   "cell_type": "code",
   "execution_count": 8,
   "metadata": {},
   "outputs": [],
   "source": [
    "factors = [col for col in linear_coef_factors_df.columns if col != \"StockCode\"]\n",
    "factor_combs = list(combinations(factors, 2))"
   ]
  },
  {
   "cell_type": "code",
   "execution_count": 9,
   "metadata": {},
   "outputs": [],
   "source": [
    "params_dict = dict()\n",
    "\n",
    "for factor_comb in factor_combs:\n",
    "    profit_analysis_2d_df = factor_analyser.get_profit_analysis_2d_df(\n",
    "        future_ohlcv_df, CFG[\"FACTOR_ANALYSIS_CFG\"], factor_comb\n",
    "    )\n",
    "    profit_analysis_2d_df.fillna(profit_analysis_2d_df.mean().mean(), inplace=True)\n",
    "\n",
    "    factor_parameter_processor = FACTOR_PARAMETER_PROCESSOR(profit_analysis_2d_df, 3, 3)\n",
    "    best_args = factor_parameter_processor.get_best_args()\n",
    "    best_value = factor_parameter_processor.get_best_value()\n",
    "    params_dict[best_args] = best_value"
   ]
  },
  {
   "cell_type": "code",
   "execution_count": 10,
   "metadata": {},
   "outputs": [],
   "source": [
    "params_df = pd.DataFrame().from_dict(params_dict, orient=\"index\",columns=['Value'])"
   ]
  },
  {
   "cell_type": "code",
   "execution_count": 11,
   "metadata": {},
   "outputs": [
    {
     "data": {
      "text/html": [
       "<div>\n",
       "<style scoped>\n",
       "    .dataframe tbody tr th:only-of-type {\n",
       "        vertical-align: middle;\n",
       "    }\n",
       "\n",
       "    .dataframe tbody tr th {\n",
       "        vertical-align: top;\n",
       "    }\n",
       "\n",
       "    .dataframe thead th {\n",
       "        text-align: right;\n",
       "    }\n",
       "</style>\n",
       "<table border=\"1\" class=\"dataframe\">\n",
       "  <thead>\n",
       "    <tr style=\"text-align: right;\">\n",
       "      <th></th>\n",
       "      <th>Value</th>\n",
       "    </tr>\n",
       "  </thead>\n",
       "  <tbody>\n",
       "    <tr>\n",
       "      <th>((Close, 0.5, 0.8), (VolumeRotation, 0.1, 0.4))</th>\n",
       "      <td>0.085237</td>\n",
       "    </tr>\n",
       "  </tbody>\n",
       "</table>\n",
       "</div>"
      ],
      "text/plain": [
       "                                                    Value\n",
       "((Close, 0.5, 0.8), (VolumeRotation, 0.1, 0.4))  0.085237"
      ]
     },
     "execution_count": 11,
     "metadata": {},
     "output_type": "execute_result"
    }
   ],
   "source": [
    "params_df.nlargest(5, \"Value\")"
   ]
  },
  {
   "cell_type": "code",
   "execution_count": 12,
   "metadata": {},
   "outputs": [
    {
     "data": {
      "text/plain": [
       "[(('Close', 0.5, 0.8), ('VolumeRotation', 0.1, 0.4))]"
      ]
     },
     "execution_count": 12,
     "metadata": {},
     "output_type": "execute_result"
    }
   ],
   "source": [
    "list(params_df.nlargest(5, \"Value\").index)"
   ]
  }
 ],
 "metadata": {
  "kernelspec": {
   "display_name": "quant_trading",
   "language": "python",
   "name": "python3"
  },
  "language_info": {
   "codemirror_mode": {
    "name": "ipython",
    "version": 3
   },
   "file_extension": ".py",
   "mimetype": "text/x-python",
   "name": "python",
   "nbconvert_exporter": "python",
   "pygments_lexer": "ipython3",
   "version": "3.10.13"
  }
 },
 "nbformat": 4,
 "nbformat_minor": 2
}
