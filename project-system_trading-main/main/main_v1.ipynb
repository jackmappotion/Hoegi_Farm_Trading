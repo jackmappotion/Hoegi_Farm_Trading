{
 "cells": [
  {
   "cell_type": "code",
   "execution_count": 1,
   "metadata": {},
   "outputs": [],
   "source": [
    "import datetime as dt\n",
    "import numpy as np\n",
    "import pandas as pd\n",
    "from itertools import combinations\n",
    "\n",
    "from processor.dart import DART_FUNDAMENTAL_PROCESSOR\n",
    "from processor.fdr import FDR_INFO_PROCESSOR, FDR_OHLCV_PREPROCESSOR\n",
    "\n",
    "from loader.pykrx_loader import get_pykrx_loader\n",
    "\n",
    "from processor.factor.fundamental import FUNDAMENTAL_FACTOR_PROCESSOR\n",
    "from processor.factor.technical import MOVING_AVERAGE_FACTOR_PROCESSOR\n",
    "from processor.factor.trader import TRADER_FACTOR_PROCESSOR\n",
    "from processor.factor.parameter import FACTOR_PARAMETER_PROCESSOR\n",
    "from processor.factor.filter import FACTOR_FILTER\n",
    "\n",
    "from analyser.factor import FACTOR_ANALYSER"
   ]
  },
  {
   "cell_type": "code",
   "execution_count": 2,
   "metadata": {},
   "outputs": [],
   "source": [
    "CFG = {\n",
    "    \"analysis_date\": \"2023-11-01\",\n",
    "    \"FUNDAMENTAL\": {\n",
    "        \"FACTOR_PROCESSOR_CFG\": {\n",
    "            \"ohlcv_recent_n\": 10,\n",
    "        },\n",
    "        \"FACTOR_ANALYSIS_CFG\": {\n",
    "            \"profit_recent_n\": 20,\n",
    "        },\n",
    "    },\n",
    "    \"MOVING_AVERAGE\": {\n",
    "        \"FACTOR_PROCESSOR_CFG\": {\n",
    "            \"factors\": [\"Close\", \"VolumeRotation\"],\n",
    "            \"short_term_window\": round((7 * 2) * (5 / 7)),\n",
    "            \"long_term_window\": round((7 * 8) * (5 / 7)),\n",
    "            \"signal_recent_n\": 20,\n",
    "        },\n",
    "        \"FACTOR_ANALYSIS_CFG\": {\n",
    "            \"profit_recent_n\": 20,\n",
    "        },\n",
    "    },\n",
    "    \"TRADER\": {\n",
    "        \"FACTOR_PROCESSOR_CFG\": {\n",
    "            \"start\": (dt.date.today() - dt.timedelta(days=7)).strftime(\"%Y-%m-%d\"),\n",
    "            \"end\": (dt.date.today() - dt.timedelta(days=1)).strftime(\"%Y-%m-%d\"),\n",
    "            # \"end\": dt.date.today().strftime(\"%Y-%m-%d\"),\n",
    "        },\n",
    "        \"FACTOR_FILTER_CFG\": {\n",
    "            \"absolute_conditions\": [\n",
    "                \"Corp > 0\",\n",
    "                \"Foreign > 0\",\n",
    "                \"Indivisual < 0\",\n",
    "            ]\n",
    "        },\n",
    "    },\n",
    "}"
   ]
  },
  {
   "cell_type": "code",
   "execution_count": 3,
   "metadata": {},
   "outputs": [],
   "source": [
    "# dart_fundamental\n",
    "dart_fundamental_df = pd.read_csv(\"./data/dart_fundamental_df.csv\", index_col=0)\n",
    "dart_fundamental_processor = DART_FUNDAMENTAL_PROCESSOR(dart_fundamental_df)"
   ]
  },
  {
   "cell_type": "code",
   "execution_count": 4,
   "metadata": {},
   "outputs": [],
   "source": [
    "# fdr_info\n",
    "fdr_info_df = pd.read_csv(\"./data/fdr_info_df.csv\", index_col=0)\n",
    "fdr_info_processor = FDR_INFO_PROCESSOR(fdr_info_df)"
   ]
  },
  {
   "cell_type": "code",
   "execution_count": 5,
   "metadata": {},
   "outputs": [],
   "source": [
    "# fdr_ohlcv\n",
    "fdr_ohlcv_df = pd.read_csv(\"./data/fdr_ohlcv_df.csv\", index_col=0)\n",
    "fdr_ohlcv_preprocessor = FDR_OHLCV_PREPROCESSOR(fdr_ohlcv_df)\n",
    "pps_fdr_ohlcv_df = fdr_ohlcv_preprocessor.get_pps_fdr_ohlcv_df()"
   ]
  },
  {
   "cell_type": "code",
   "execution_count": 6,
   "metadata": {},
   "outputs": [],
   "source": [
    "# split ohlcv\n",
    "future_ohlcv_df = pps_fdr_ohlcv_df[CFG[\"analysis_date\"] < pps_fdr_ohlcv_df[\"Date\"]].copy()\n",
    "params_ohlcv_df = pps_fdr_ohlcv_df[pps_fdr_ohlcv_df[\"Date\"] < CFG[\"analysis_date\"]].copy()"
   ]
  },
  {
   "cell_type": "code",
   "execution_count": 7,
   "metadata": {},
   "outputs": [],
   "source": [
    "# Fundamental Parameter"
   ]
  },
  {
   "cell_type": "code",
   "execution_count": 8,
   "metadata": {},
   "outputs": [],
   "source": [
    "# get fundamental_factors_df\n",
    "fundamental_factor_processor = FUNDAMENTAL_FACTOR_PROCESSOR(\n",
    "    params_ohlcv_df, dart_fundamental_processor, fdr_info_processor\n",
    ")\n",
    "fundamental_factors_df = fundamental_factor_processor.get_fundamental_factor_df(\n",
    "    CFG[\"FUNDAMENTAL\"][\"FACTOR_PROCESSOR_CFG\"]\n",
    ")"
   ]
  },
  {
   "cell_type": "code",
   "execution_count": 9,
   "metadata": {},
   "outputs": [],
   "source": [
    "# Analysis\n",
    "factor_analyser = FACTOR_ANALYSER(fundamental_factors_df)"
   ]
  },
  {
   "cell_type": "code",
   "execution_count": 10,
   "metadata": {},
   "outputs": [],
   "source": [
    "factors = [col for col in fundamental_factors_df.columns if col != \"StockCode\"]\n",
    "factor_combs = list(combinations(factors, 2))\n",
    "\n",
    "params_dict = dict()\n",
    "\n",
    "for factor_comb in factor_combs:\n",
    "    profit_analysis_2d_df = factor_analyser.get_profit_analysis_2d_df(\n",
    "        future_ohlcv_df, CFG[\"FUNDAMENTAL\"][\"FACTOR_ANALYSIS_CFG\"], factor_comb\n",
    "    )\n",
    "    profit_analysis_2d_df.fillna(profit_analysis_2d_df.mean().mean(), inplace=True)\n",
    "\n",
    "    factor_parameter_processor = FACTOR_PARAMETER_PROCESSOR(profit_analysis_2d_df, 3, 3)\n",
    "    best_args = factor_parameter_processor.get_best_args()\n",
    "    best_value = factor_parameter_processor.get_best_value()\n",
    "    params_dict[best_args] = best_value"
   ]
  },
  {
   "cell_type": "code",
   "execution_count": 11,
   "metadata": {},
   "outputs": [],
   "source": [
    "params_df = pd.DataFrame().from_dict(params_dict, orient=\"index\",columns=['Value'])"
   ]
  },
  {
   "cell_type": "code",
   "execution_count": 12,
   "metadata": {},
   "outputs": [
    {
     "data": {
      "text/html": [
       "<div>\n",
       "<style scoped>\n",
       "    .dataframe tbody tr th:only-of-type {\n",
       "        vertical-align: middle;\n",
       "    }\n",
       "\n",
       "    .dataframe tbody tr th {\n",
       "        vertical-align: top;\n",
       "    }\n",
       "\n",
       "    .dataframe thead th {\n",
       "        text-align: right;\n",
       "    }\n",
       "</style>\n",
       "<table border=\"1\" class=\"dataframe\">\n",
       "  <thead>\n",
       "    <tr style=\"text-align: right;\">\n",
       "      <th></th>\n",
       "      <th>Value</th>\n",
       "    </tr>\n",
       "  </thead>\n",
       "  <tbody>\n",
       "    <tr>\n",
       "      <th>((TEPP, 0.0, 0.3), (CAPP, 0.7, 1.0))</th>\n",
       "      <td>0.128517</td>\n",
       "    </tr>\n",
       "    <tr>\n",
       "      <th>((TAPP, 0.7, 1.0), (TEPP, 0.2, 0.5))</th>\n",
       "      <td>0.107244</td>\n",
       "    </tr>\n",
       "    <tr>\n",
       "      <th>((TAPP, 0.6, 0.9), (CAPP, 0.0, 0.3))</th>\n",
       "      <td>0.092093</td>\n",
       "    </tr>\n",
       "    <tr>\n",
       "      <th>((CLR, 0.2, 0.5), (TLR, 0.6, 0.9))</th>\n",
       "      <td>0.089866</td>\n",
       "    </tr>\n",
       "    <tr>\n",
       "      <th>((TLR, 0.0, 0.3), (CEPP, 0.3, 0.6))</th>\n",
       "      <td>0.088302</td>\n",
       "    </tr>\n",
       "  </tbody>\n",
       "</table>\n",
       "</div>"
      ],
      "text/plain": [
       "                                         Value\n",
       "((TEPP, 0.0, 0.3), (CAPP, 0.7, 1.0))  0.128517\n",
       "((TAPP, 0.7, 1.0), (TEPP, 0.2, 0.5))  0.107244\n",
       "((TAPP, 0.6, 0.9), (CAPP, 0.0, 0.3))  0.092093\n",
       "((CLR, 0.2, 0.5), (TLR, 0.6, 0.9))    0.089866\n",
       "((TLR, 0.0, 0.3), (CEPP, 0.3, 0.6))   0.088302"
      ]
     },
     "execution_count": 12,
     "metadata": {},
     "output_type": "execute_result"
    }
   ],
   "source": [
    "params_df.nlargest(5, \"Value\")"
   ]
  },
  {
   "cell_type": "code",
   "execution_count": 13,
   "metadata": {},
   "outputs": [],
   "source": [
    "fudamental_parameters = list(params_df.nlargest(5, \"Value\").index)\n",
    "CFG[\"FUNDAMENTAL\"][\"FACTOR_FILTER_CFG\"] = {\n",
    "    \"quantile_conditions\": list(fudamental_parameters[0]),\n",
    "}"
   ]
  },
  {
   "cell_type": "code",
   "execution_count": 14,
   "metadata": {},
   "outputs": [],
   "source": [
    "# Technical parameter"
   ]
  },
  {
   "cell_type": "code",
   "execution_count": 15,
   "metadata": {},
   "outputs": [],
   "source": [
    "# get factors_df\n",
    "moving_average_factor_processor = MOVING_AVERAGE_FACTOR_PROCESSOR(params_ohlcv_df, fdr_info_processor)\n",
    "moving_average_factors_df = moving_average_factor_processor.get_moving_average_factor_df(\n",
    "    CFG['MOVING_AVERAGE']['FACTOR_PROCESSOR_CFG']\n",
    ")"
   ]
  },
  {
   "cell_type": "code",
   "execution_count": 16,
   "metadata": {},
   "outputs": [],
   "source": [
    "# Analysis\n",
    "factor_analyser = FACTOR_ANALYSER(moving_average_factors_df)"
   ]
  },
  {
   "cell_type": "code",
   "execution_count": 17,
   "metadata": {},
   "outputs": [],
   "source": [
    "factors = [col for col in moving_average_factors_df.columns if col != \"StockCode\"]\n",
    "factor_combs = list(combinations(factors, 2))"
   ]
  },
  {
   "cell_type": "code",
   "execution_count": 18,
   "metadata": {},
   "outputs": [],
   "source": [
    "params_dict = dict()\n",
    "\n",
    "for factor_comb in factor_combs:\n",
    "    profit_analysis_2d_df = factor_analyser.get_profit_analysis_2d_df(\n",
    "        future_ohlcv_df, CFG['MOVING_AVERAGE']['FACTOR_ANALYSIS_CFG'], factor_comb\n",
    "    )\n",
    "    profit_analysis_2d_df.fillna(profit_analysis_2d_df.mean().mean(), inplace=True)\n",
    "\n",
    "    factor_parameter_processor = FACTOR_PARAMETER_PROCESSOR(profit_analysis_2d_df, 3, 3)\n",
    "    best_args = factor_parameter_processor.get_best_args()\n",
    "    best_value = factor_parameter_processor.get_best_value()\n",
    "    params_dict[best_args] = best_value"
   ]
  },
  {
   "cell_type": "code",
   "execution_count": 19,
   "metadata": {},
   "outputs": [],
   "source": [
    "params_df = pd.DataFrame().from_dict(params_dict, orient=\"index\",columns=['Value'])"
   ]
  },
  {
   "cell_type": "code",
   "execution_count": 20,
   "metadata": {},
   "outputs": [
    {
     "data": {
      "text/html": [
       "<div>\n",
       "<style scoped>\n",
       "    .dataframe tbody tr th:only-of-type {\n",
       "        vertical-align: middle;\n",
       "    }\n",
       "\n",
       "    .dataframe tbody tr th {\n",
       "        vertical-align: top;\n",
       "    }\n",
       "\n",
       "    .dataframe thead th {\n",
       "        text-align: right;\n",
       "    }\n",
       "</style>\n",
       "<table border=\"1\" class=\"dataframe\">\n",
       "  <thead>\n",
       "    <tr style=\"text-align: right;\">\n",
       "      <th></th>\n",
       "      <th>Value</th>\n",
       "    </tr>\n",
       "  </thead>\n",
       "  <tbody>\n",
       "    <tr>\n",
       "      <th>((Close, 0.6, 0.9), (VolumeRotation, 0.0, 0.3))</th>\n",
       "      <td>0.096154</td>\n",
       "    </tr>\n",
       "  </tbody>\n",
       "</table>\n",
       "</div>"
      ],
      "text/plain": [
       "                                                    Value\n",
       "((Close, 0.6, 0.9), (VolumeRotation, 0.0, 0.3))  0.096154"
      ]
     },
     "execution_count": 20,
     "metadata": {},
     "output_type": "execute_result"
    }
   ],
   "source": [
    "params_df.nlargest(5, \"Value\")"
   ]
  },
  {
   "cell_type": "code",
   "execution_count": 21,
   "metadata": {},
   "outputs": [],
   "source": [
    "technical_parameters = list(params_df.nlargest(5, \"Value\").index)\n",
    "CFG[\"MOVING_AVERAGE\"][\"FACTOR_FILTER_CFG\"] = {\n",
    "    \"quantile_conditions\": list(technical_parameters[0]),\n",
    "}"
   ]
  },
  {
   "cell_type": "code",
   "execution_count": 22,
   "metadata": {},
   "outputs": [],
   "source": [
    "# Model"
   ]
  },
  {
   "cell_type": "code",
   "execution_count": 23,
   "metadata": {},
   "outputs": [],
   "source": [
    "ohlcv_df = pps_fdr_ohlcv_df.copy()"
   ]
  },
  {
   "cell_type": "code",
   "execution_count": 24,
   "metadata": {},
   "outputs": [],
   "source": [
    "# Fundamental\n",
    "fundamental_factor_processor = FUNDAMENTAL_FACTOR_PROCESSOR(ohlcv_df, dart_fundamental_processor, fdr_info_processor)\n",
    "fundamental_factor_df = fundamental_factor_processor.get_fundamental_factor_df(\n",
    "    CFG[\"FUNDAMENTAL\"][\"FACTOR_PROCESSOR_CFG\"]\n",
    ")\n",
    "\n",
    "factor_filter = FACTOR_FILTER(fundamental_factor_df)\n",
    "fundamental_stockcodes = factor_filter.get_filtered_stockcodes(CFG[\"FUNDAMENTAL\"][\"FACTOR_FILTER_CFG\"])"
   ]
  },
  {
   "cell_type": "code",
   "execution_count": 25,
   "metadata": {},
   "outputs": [],
   "source": [
    "# Technical\n",
    "## Moving Average\n",
    "moving_average_factor_processor = MOVING_AVERAGE_FACTOR_PROCESSOR(ohlcv_df, fdr_info_processor)\n",
    "moving_average_factors_df = moving_average_factor_processor.get_moving_average_factor_df(\n",
    "    CFG[\"MOVING_AVERAGE\"][\"FACTOR_PROCESSOR_CFG\"]\n",
    ")\n",
    "\n",
    "factor_filter = FACTOR_FILTER(moving_average_factors_df)\n",
    "technical_stockcodes = factor_filter.get_filtered_stockcodes(\n",
    "    CFG[\"MOVING_AVERAGE\"][\"FACTOR_FILTER_CFG\"], fundamental_stockcodes\n",
    ")"
   ]
  },
  {
   "cell_type": "code",
   "execution_count": 26,
   "metadata": {},
   "outputs": [
    {
     "data": {
      "text/plain": [
       "7"
      ]
     },
     "execution_count": 26,
     "metadata": {},
     "output_type": "execute_result"
    }
   ],
   "source": [
    "len(technical_stockcodes)"
   ]
  },
  {
   "cell_type": "code",
   "execution_count": 27,
   "metadata": {},
   "outputs": [],
   "source": [
    "# Trader\n",
    "pykrx_loader = get_pykrx_loader()\n",
    "\n",
    "trader_factor_processor = TRADER_FACTOR_PROCESSOR(pykrx_loader)\n",
    "trader_factor_df = trader_factor_processor.get_trader_factor_df(\n",
    "    technical_stockcodes, CFG[\"TRADER\"][\"FACTOR_PROCESSOR_CFG\"]\n",
    ")\n",
    "factor_filter = FACTOR_FILTER(trader_factor_df)\n",
    "final_stockcodes = factor_filter.get_filtered_stockcodes(CFG[\"TRADER\"][\"FACTOR_FILTER_CFG\"], technical_stockcodes)"
   ]
  },
  {
   "cell_type": "code",
   "execution_count": 28,
   "metadata": {},
   "outputs": [
    {
     "data": {
      "text/plain": [
       "{'000320', '016880'}"
      ]
     },
     "execution_count": 28,
     "metadata": {},
     "output_type": "execute_result"
    }
   ],
   "source": [
    "final_stockcodes"
   ]
  }
 ],
 "metadata": {
  "kernelspec": {
   "display_name": "quant_trading",
   "language": "python",
   "name": "python3"
  },
  "language_info": {
   "codemirror_mode": {
    "name": "ipython",
    "version": 3
   },
   "file_extension": ".py",
   "mimetype": "text/x-python",
   "name": "python",
   "nbconvert_exporter": "python",
   "pygments_lexer": "ipython3",
   "version": "3.10.13"
  }
 },
 "nbformat": 4,
 "nbformat_minor": 2
}
