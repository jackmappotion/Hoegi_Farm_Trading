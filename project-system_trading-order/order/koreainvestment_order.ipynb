{
 "cells": [
  {
   "cell_type": "code",
   "execution_count": null,
   "metadata": {},
   "outputs": [],
   "source": [
    "import pandas as pd\n",
    "import datetime as dt\n",
    "from controller.koreainvestment_controller import get_ki_broker\n",
    "from controller.koreainvestment_controller import ORDER_CONTROLLER"
   ]
  },
  {
   "cell_type": "code",
   "execution_count": null,
   "metadata": {},
   "outputs": [],
   "source": [
    "CFG = {\n",
    "    \"buying_stockcodes\": [\"000320\", \"016880\"],\n",
    "}"
   ]
  },
  {
   "cell_type": "code",
   "execution_count": null,
   "metadata": {},
   "outputs": [],
   "source": [
    "ki_broker = get_ki_broker()"
   ]
  },
  {
   "cell_type": "code",
   "execution_count": null,
   "metadata": {},
   "outputs": [],
   "source": [
    "order_controller = ORDER_CONTROLLER(ki_broker)\n",
    "\n",
    "order_preprocessor = order_controller.order_preprocessor()\n",
    "order_requester = order_controller.order_requester()"
   ]
  },
  {
   "cell_type": "code",
   "execution_count": null,
   "metadata": {},
   "outputs": [],
   "source": [
    "buying_df = order_preprocessor.get_buying_df(CFG['buying_stockcodes'])"
   ]
  },
  {
   "cell_type": "code",
   "execution_count": null,
   "metadata": {},
   "outputs": [],
   "source": [
    "# buying_df 생성\n",
    "buying_df = order_preprocessor.get_buying_df(CFG['buying_stockcodes'])\n",
    "\n",
    "# buying_df 시장가 매수\n",
    "order_resp_dict = dict()\n",
    "\n",
    "for idx, row in buying_df.iterrows():\n",
    "    stockcode = row[\"StockCode\"]\n",
    "    quantity = row[\"Quantity\"]\n",
    "    order_resp = order_requester.request_market_buy_order(stockcode=stockcode, quantity=quantity)\n",
    "    order_resp_dict[stockcode] = order_resp"
   ]
  },
  {
   "cell_type": "code",
   "execution_count": null,
   "metadata": {},
   "outputs": [],
   "source": [
    "open_order_resv = ki_broker.fetch_open_order_resv()"
   ]
  },
  {
   "cell_type": "code",
   "execution_count": null,
   "metadata": {},
   "outputs": [],
   "source": [
    "open_order_resv_df = pd.DataFrame(open_order_resv[\"output\"])\n",
    "open_order_resv_df.loc[:, [\"pdno\", \"kor_item_shtn_name\", \"ord_rsvn_qty\", \"ord_rsvn_unpr\"]]"
   ]
  },
  {
   "cell_type": "code",
   "execution_count": null,
   "metadata": {},
   "outputs": [],
   "source": [
    "position_df = order_preprocessor.get_position_df()"
   ]
  },
  {
   "cell_type": "code",
   "execution_count": null,
   "metadata": {},
   "outputs": [],
   "source": [
    "\"\"\"\n",
    "https://blog.naver.com/kyoyo21/223170296790\n",
    "\"\"\"\n",
    "import numpy as np\n",
    "\n",
    "\n",
    "def call_price_maker(price):\n",
    "    def call_price_calc(price, n):\n",
    "        return np.around(price / n) * n\n",
    "\n",
    "    if price < 2000:\n",
    "        call_price = call_price_calc(price, 1)\n",
    "    elif price < 5000:\n",
    "        call_price = call_price_calc(price, 5)\n",
    "    elif price < 20000:\n",
    "        call_price = call_price_calc(price, 10)\n",
    "    elif price < 50000:\n",
    "        call_price = call_price_calc(price, 50)\n",
    "    elif price < 200000:\n",
    "        call_price = call_price_calc(price, 100)\n",
    "    elif price < 500000:\n",
    "        call_price = call_price_calc(price, 500)\n",
    "    else:\n",
    "        call_price = call_price_calc(price, 1000)\n",
    "    return int(call_price)"
   ]
  },
  {
   "cell_type": "code",
   "execution_count": null,
   "metadata": {},
   "outputs": [],
   "source": [
    "position_df[\"ResvUpperPrice\"] = position_df[\"BuyingPrice\"].apply(lambda x: call_price_maker(x * 1.06))\n",
    "position_df[\"ResvLowerPrice\"] = position_df[\"BuyingPrice\"].apply(lambda x: call_price_maker(x * 0.98))"
   ]
  },
  {
   "cell_type": "code",
   "execution_count": null,
   "metadata": {},
   "outputs": [],
   "source": [
    "order_resv_resp_dict = dict()\n",
    "\n",
    "for idx, row in position_df.iterrows():\n",
    "    StockCode = row[\"StockCode\"]\n",
    "    Quantity = row[\"Quantity\"]\n",
    "    ResvUpperPrice = row[\"ResvUpperPrice\"]\n",
    "    ResvLowerPrice = row[\"ResvLowerPrice\"]\n",
    "    \n",
    "    order_resv_lower_resp = order_requester.request_limit_sell_order_resv(\n",
    "        stockcode=StockCode,\n",
    "        price=ResvLowerPrice,\n",
    "        quantity=Quantity,\n",
    "        resv_date=(dt.date.today() + dt.timedelta(days=10)),\n",
    "    )\n",
    "    \n",
    "    order_resv_upper_resp = order_requester.request_limit_sell_order_resv(\n",
    "        stockcode=StockCode,\n",
    "        price=ResvUpperPrice,\n",
    "        quantity=Quantity,\n",
    "        resv_date=(dt.date.today() + dt.timedelta(days=10)),\n",
    "    )\n",
    "\n",
    "    order_resv_resp_dict[StockCode] = (order_resv_lower_resp, order_resv_upper_resp)"
   ]
  },
  {
   "cell_type": "code",
   "execution_count": null,
   "metadata": {},
   "outputs": [],
   "source": [
    "order_requester.request_limit_sell_order_resv(\n",
    "    \n",
    ")"
   ]
  },
  {
   "cell_type": "code",
   "execution_count": null,
   "metadata": {},
   "outputs": [],
   "source": [
    "position_df"
   ]
  },
  {
   "cell_type": "code",
   "execution_count": null,
   "metadata": {},
   "outputs": [],
   "source": [
    "position_df"
   ]
  },
  {
   "cell_type": "code",
   "execution_count": null,
   "metadata": {},
   "outputs": [],
   "source": [
    "params = {\n",
    "    \"CTX_AREA_FK100\": \"\",\n",
    "    \"CTX_AREA_NK100\": \"\",\n",
    "    \"INQR_DVSN_1\": \"0\",\n",
    "    \"INQR_DVSN_2\": \"0\",\n",
    "}\n",
    "order_resp = ki_broker.fetch_open_order()"
   ]
  },
  {
   "cell_type": "code",
   "execution_count": null,
   "metadata": {},
   "outputs": [],
   "source": [
    "pd.DataFrame(order_resp[\"output\"])"
   ]
  },
  {
   "cell_type": "code",
   "execution_count": null,
   "metadata": {},
   "outputs": [],
   "source": [
    "class KI_ORDER_CONTROLLER:\n",
    "    def __init__(self, broker) -> None:\n",
    "        pass"
   ]
  }
 ],
 "metadata": {
  "kernelspec": {
   "display_name": "quant_trading",
   "language": "python",
   "name": "python3"
  },
  "language_info": {
   "codemirror_mode": {
    "name": "ipython",
    "version": 3
   },
   "file_extension": ".py",
   "mimetype": "text/x-python",
   "name": "python",
   "nbconvert_exporter": "python",
   "pygments_lexer": "ipython3",
   "version": "3.10.13"
  }
 },
 "nbformat": 4,
 "nbformat_minor": 2
}
