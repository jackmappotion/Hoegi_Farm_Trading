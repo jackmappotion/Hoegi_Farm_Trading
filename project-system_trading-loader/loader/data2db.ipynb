{
 "cells": [
  {
   "cell_type": "code",
   "execution_count": 1,
   "metadata": {},
   "outputs": [],
   "source": [
    "import datetime as dt\n",
    "import pandas as pd\n",
    "\n",
    "from controller.db import get_db_engine\n",
    "\n",
    "from loader.dart_loader import get_dart_api_loader, get_dart_fss_loader\n",
    "from loader.fdr_loader import get_fdr_loader\n",
    "from loader.pykrx_loader import get_pykrx_loader"
   ]
  },
  {
   "cell_type": "code",
   "execution_count": 2,
   "metadata": {},
   "outputs": [],
   "source": [
    "# CFG\n",
    "\n",
    "## dart_api_cfg\n",
    "DART_API_CFG = {\n",
    "    \"year\": 2023,\n",
    "    # (11011 : 연간보고서) / (11012 : 반기보고서) / (11013 : 1분기보고서) / (11014 : 3분기보고서)\n",
    "    \"reprt_code\": 11014,\n",
    "}\n",
    "\n",
    "## fdr_cfg\n",
    "FDR_CFG = {\n",
    "    \"start\": \"20200101\",\n",
    "    # \"end\": dt.date.today().strftime(\"%Y%m%d\"),\n",
    "    \"end\": (dt.date.today() - dt.timedelta(days=1)).strftime(\"%Y%m%d\"),\n",
    "}\n",
    "## pykrx_cfg\n",
    "PYKRX_CFG = {\n",
    "    \"start\": \"20200101\",\n",
    "    # \"end\": dt.date.today().strftime(\"%Y%m%d\"),\n",
    "    \"end\": (dt.date.today() - dt.timedelta(days=1)).strftime(\"%Y%m%d\"),\n",
    "}"
   ]
  },
  {
   "cell_type": "code",
   "execution_count": 3,
   "metadata": {},
   "outputs": [],
   "source": [
    "db_engine = get_db_engine()"
   ]
  },
  {
   "cell_type": "code",
   "execution_count": 4,
   "metadata": {},
   "outputs": [
    {
     "data": {
      "application/vnd.jupyter.widget-view+json": {
       "model_id": "21a0d732f5a6416b8b28b8ddd1c36873",
       "version_major": 2,
       "version_minor": 0
      },
      "text/plain": [
       "Output()"
      ]
     },
     "metadata": {},
     "output_type": "display_data"
    },
    {
     "data": {
      "application/vnd.jupyter.widget-view+json": {
       "model_id": "8fbdaf12050f47d38a2d6918c7981c75",
       "version_major": 2,
       "version_minor": 0
      },
      "text/plain": [
       "Output()"
      ]
     },
     "metadata": {},
     "output_type": "display_data"
    },
    {
     "data": {
      "application/vnd.jupyter.widget-view+json": {
       "model_id": "67f19f54f5be4d2fa4aa3a471edb1231",
       "version_major": 2,
       "version_minor": 0
      },
      "text/plain": [
       "Output()"
      ]
     },
     "metadata": {},
     "output_type": "display_data"
    },
    {
     "data": {
      "text/plain": [
       "3667"
      ]
     },
     "execution_count": 4,
     "metadata": {},
     "output_type": "execute_result"
    }
   ],
   "source": [
    "# dart_fss\n",
    "dart_fss_loader = get_dart_fss_loader()\n",
    "\n",
    "## dart_info_df\n",
    "dart_info_df = dart_fss_loader.get_info_df()\n",
    "dart_info_df = dart_info_df[~(dart_info_df[\"stock_code\"].isna())]\n",
    "dart_info_df.to_sql(name=\"dart_info_df\", con=db_engine, if_exists=\"replace\", index=False)"
   ]
  },
  {
   "cell_type": "code",
   "execution_count": 5,
   "metadata": {},
   "outputs": [
    {
     "data": {
      "text/plain": [
       "67355"
      ]
     },
     "execution_count": 5,
     "metadata": {},
     "output_type": "execute_result"
    }
   ],
   "source": [
    "# dart_api_loader\n",
    "dart_api_loader = get_dart_api_loader()\n",
    "\n",
    "corp_codes = sorted(set(dart_info_df[\"corp_code\"]))\n",
    "## dart_fundamental_df\n",
    "dart_fundamental_df = dart_api_loader.get_corps_fundamental_df(\n",
    "    corp_codes=corp_codes, year=DART_API_CFG[\"year\"], reprt_code=DART_API_CFG[\"reprt_code\"]\n",
    ")\n",
    "\n",
    "dart_fundamental_df.to_sql(name=\"dart_fundamental_df\", con=db_engine, if_exists=\"replace\", index=False)"
   ]
  },
  {
   "cell_type": "code",
   "execution_count": 6,
   "metadata": {},
   "outputs": [
    {
     "name": "stdout",
     "output_type": "stream",
     "text": [
      "\"000010\" invalid symbol or has no data\n",
      "\"000110\" invalid symbol or has no data\n",
      "\"000380\" invalid symbol or has no data\n",
      "\"001150\" invalid symbol or has no data\n",
      "\"001280\" invalid symbol or has no data\n",
      "\"001490\" invalid symbol or has no data\n",
      "\"001580\" invalid symbol or has no data\n",
      "\"001590\" invalid symbol or has no data\n",
      "\"001670\" invalid symbol or has no data\n",
      "\"001830\" invalid symbol or has no data\n",
      "\"001890\" invalid symbol or has no data\n",
      "\"001980\" invalid symbol or has no data\n",
      "\"002480\" invalid symbol or has no data\n",
      "\"002850\" invalid symbol or has no data\n",
      "\"002860\" invalid symbol or has no data\n",
      "\"002930\" invalid symbol or has no data\n",
      "\"002950\" invalid symbol or has no data\n",
      "\"003020\" invalid symbol or has no data\n",
      "\"003040\" invalid symbol or has no data\n",
      "\"003050\" invalid symbol or has no data\n",
      "\"003330\" invalid symbol or has no data\n",
      "\"003590\" invalid symbol or has no data\n",
      "\"003900\" invalid symbol or has no data\n",
      "\"003930\" invalid symbol or has no data\n",
      "\"004190\" invalid symbol or has no data\n",
      "\"004510\" invalid symbol or has no data\n",
      "\"004660\" invalid symbol or has no data\n",
      "\"005330\" invalid symbol or has no data\n",
      "\"005600\" invalid symbol or has no data\n",
      "\"005890\" invalid symbol or has no data\n",
      "\"006150\" invalid symbol or has no data\n",
      "\"006250\" invalid symbol or has no data\n",
      "\"006600\" invalid symbol or has no data\n",
      "\"006750\" invalid symbol or has no data\n",
      "\"007830\" invalid symbol or has no data\n",
      "\"007910\" invalid symbol or has no data\n",
      "\"008030\" invalid symbol or has no data\n",
      "\"008120\" invalid symbol or has no data\n",
      "\"008270\" invalid symbol or has no data\n",
      "\"008670\" invalid symbol or has no data\n",
      "\"008780\" invalid symbol or has no data\n",
      "\"009080\" invalid symbol or has no data\n",
      "\"009220\" invalid symbol or has no data\n",
      "\"009360\" invalid symbol or has no data\n",
      "\"009760\" invalid symbol or has no data\n",
      "\"009790\" invalid symbol or has no data\n",
      "\"009890\" invalid symbol or has no data\n",
      "\"009940\" invalid symbol or has no data\n",
      "\"010090\" invalid symbol or has no data\n",
      "\"010150\" invalid symbol or has no data\n",
      "\"010200\" invalid symbol or has no data\n",
      "\"010730\" invalid symbol or has no data\n",
      "\"011020\" invalid symbol or has no data\n",
      "\"012250\" invalid symbol or has no data\n",
      "\"012720\" invalid symbol or has no data\n",
      "\"012760\" invalid symbol or has no data\n",
      "\"014010\" invalid symbol or has no data\n",
      "\"014900\" invalid symbol or has no data\n",
      "\"016830\" invalid symbol or has no data\n",
      "\"016970\" invalid symbol or has no data\n",
      "\"018180\" invalid symbol or has no data\n",
      "\"019560\" invalid symbol or has no data\n",
      "\"019930\" invalid symbol or has no data\n",
      "\"021570\" invalid symbol or has no data\n",
      "\"023420\" invalid symbol or has no data\n",
      "\"025450\" invalid symbol or has no data\n",
      "\"025690\" invalid symbol or has no data\n",
      "\"025830\" invalid symbol or has no data\n",
      "\"025930\" invalid symbol or has no data\n",
      "\"026970\" invalid symbol or has no data\n",
      "\"027350\" invalid symbol or has no data\n",
      "\"027440\" invalid symbol or has no data\n",
      "\"027700\" invalid symbol or has no data\n",
      "\"030950\" invalid symbol or has no data\n",
      "\"031150\" invalid symbol or has no data\n",
      "\"031970\" invalid symbol or has no data\n",
      "\"032050\" invalid symbol or has no data\n",
      "\"032150\" invalid symbol or has no data\n",
      "\"032180\" invalid symbol or has no data\n",
      "\"032600\" invalid symbol or has no data\n",
      "\"032610\" invalid symbol or has no data\n",
      "\"033020\" invalid symbol or has no data\n",
      "\"033210\" invalid symbol or has no data\n",
      "\"033220\" invalid symbol or has no data\n",
      "\"035430\" invalid symbol or has no data\n",
      "\"035780\" invalid symbol or has no data\n",
      "\"035870\" invalid symbol or has no data\n",
      "\"035910\" invalid symbol or has no data\n",
      "\"035960\" invalid symbol or has no data\n",
      "\"036020\" invalid symbol or has no data\n",
      "\"036060\" invalid symbol or has no data\n",
      "\"036590\" invalid symbol or has no data\n",
      "\"036600\" invalid symbol or has no data\n",
      "\"036720\" invalid symbol or has no data\n",
      "\"036820\" invalid symbol or has no data\n",
      "\"036880\" invalid symbol or has no data\n",
      "\"036900\" invalid symbol or has no data\n",
      "\"036910\" invalid symbol or has no data\n",
      "\"037010\" invalid symbol or has no data\n",
      "\"037060\" invalid symbol or has no data\n",
      "\"037120\" invalid symbol or has no data\n",
      "\"037220\" invalid symbol or has no data\n",
      "\"037250\" invalid symbol or has no data\n",
      "\"037500\" invalid symbol or has no data\n",
      "\"037600\" invalid symbol or has no data\n",
      "\"037640\" invalid symbol or has no data\n",
      "\"037650\" invalid symbol or has no data\n",
      "\"037730\" invalid symbol or has no data\n",
      "\"037750\" invalid symbol or has no data\n",
      "\"038050\" invalid symbol or has no data\n",
      "\"038100\" invalid symbol or has no data\n",
      "\"038400\" invalid symbol or has no data\n",
      "\"038420\" invalid symbol or has no data\n",
      "\"038960\" invalid symbol or has no data\n",
      "\"038980\" invalid symbol or has no data\n",
      "\"039000\" invalid symbol or has no data\n",
      "\"039110\" invalid symbol or has no data\n",
      "\"039390\" invalid symbol or has no data\n",
      "\"039580\" invalid symbol or has no data\n",
      "\"039870\" invalid symbol or has no data\n",
      "\"040130\" invalid symbol or has no data\n",
      "\"041500\" invalid symbol or has no data\n",
      "\"042950\" invalid symbol or has no data\n",
      "\"042960\" invalid symbol or has no data\n",
      "\"043690\" invalid symbol or has no data\n",
      "\"043790\" invalid symbol or has no data\n",
      "\"044440\" invalid symbol or has no data\n",
      "\"045310\" invalid symbol or has no data\n",
      "\"045920\" invalid symbol or has no data\n",
      "\"046000\" invalid symbol or has no data\n",
      "\"046810\" invalid symbol or has no data\n",
      "\"047060\" invalid symbol or has no data\n",
      "\"047420\" invalid symbol or has no data\n",
      "\"047610\" invalid symbol or has no data\n",
      "\"048150\" invalid symbol or has no data\n",
      "\"048540\" invalid symbol or has no data\n",
      "\"048760\" invalid symbol or has no data\n",
      "\"049130\" invalid symbol or has no data\n",
      "\"049370\" invalid symbol or has no data\n",
      "\"053200\" invalid symbol or has no data\n",
      "\"053250\" invalid symbol or has no data\n",
      "\"054080\" invalid symbol or has no data\n",
      "\"054250\" invalid symbol or has no data\n",
      "\"054370\" invalid symbol or has no data\n",
      "\"054440\" invalid symbol or has no data\n",
      "\"054530\" invalid symbol or has no data\n",
      "\"054790\" invalid symbol or has no data\n",
      "\"055000\" invalid symbol or has no data\n",
      "\"055810\" invalid symbol or has no data\n",
      "\"056060\" invalid symbol or has no data\n",
      "\"056140\" invalid symbol or has no data\n",
      "\"056500\" invalid symbol or has no data\n",
      "\"057110\" invalid symbol or has no data\n",
      "\"063350\" invalid symbol or has no data\n",
      "\"063510\" invalid symbol or has no data\n",
      "\"064900\" invalid symbol or has no data\n",
      "\"066480\" invalid symbol or has no data\n",
      "\"067910\" invalid symbol or has no data\n",
      "\"070540\" invalid symbol or has no data\n",
      "\"085450\" invalid symbol or has no data\n"
     ]
    },
    {
     "data": {
      "text/plain": [
       "2386461"
      ]
     },
     "execution_count": 6,
     "metadata": {},
     "output_type": "execute_result"
    }
   ],
   "source": [
    "# fdr_loader\n",
    "fdr_loader = get_fdr_loader()\n",
    "\n",
    "stock_codes = sorted(set(dart_info_df[\"stock_code\"]))\n",
    "## fdr_info_df\n",
    "fdr_info_df = fdr_loader.get_krx_df()\n",
    "fdr_info_df.to_sql(name=\"fdr_info_df\", con=db_engine, if_exists=\"replace\", index=False)\n",
    "\n",
    "## fdr_ohlcv_df\n",
    "fdr_ohlcv_df = fdr_loader.get_stocks_ohlcv_df(StockCodes=stock_codes, start=FDR_CFG[\"start\"], end=FDR_CFG[\"end\"])\n",
    "fdr_ohlcv_df.to_sql(name=\"fdr_ohlcv_df\", con=db_engine, if_exists=\"replace\", index=False)"
   ]
  },
  {
   "cell_type": "code",
   "execution_count": 7,
   "metadata": {},
   "outputs": [
    {
     "data": {
      "text/plain": [
       "1924"
      ]
     },
     "execution_count": 7,
     "metadata": {},
     "output_type": "execute_result"
    }
   ],
   "source": [
    "# pykrx_loader\n",
    "pykrx_loader = get_pykrx_loader()\n",
    "\n",
    "## pykrx_info_df\n",
    "KOSPI_trader_df = pykrx_loader.get_stock_trader_df(StockCode=\"KOSPI\", start=PYKRX_CFG[\"start\"], end=PYKRX_CFG[\"end\"])\n",
    "KOSPI_trader_df[\"Market\"] = \"KOSPI\"\n",
    "\n",
    "KOSDAQ_trader_df = pykrx_loader.get_stock_trader_df(StockCode=\"KOSDAQ\", start=PYKRX_CFG[\"start\"], end=PYKRX_CFG[\"end\"])\n",
    "KOSDAQ_trader_df[\"Market\"] = \"KOSDAQ\"\n",
    "\n",
    "pykrx_info_df = pd.concat([KOSDAQ_trader_df, KOSPI_trader_df], axis=0)\n",
    "pykrx_info_df.reset_index(inplace=True)\n",
    "pykrx_info_df.to_sql(name=\"pykrx_info_df\", con=db_engine, if_exists=\"replace\", index=False)"
   ]
  },
  {
   "cell_type": "code",
   "execution_count": 8,
   "metadata": {},
   "outputs": [
    {
     "data": {
      "text/plain": [
       "2637"
      ]
     },
     "execution_count": 8,
     "metadata": {},
     "output_type": "execute_result"
    }
   ],
   "source": [
    "# KRX Static\n",
    "krx_kosdaq_df = pd.read_csv(\"./data/kosdaq_20231109.csv\", encoding=\"cp949\")\n",
    "krx_kospi_df = pd.read_csv(\"./data/kospi_20231109.csv\", encoding=\"cp949\")\n",
    "\n",
    "## krx_info_df\n",
    "krx_info_df = pd.concat([krx_kosdaq_df, krx_kospi_df], axis=0)\n",
    "krx_info_df.to_sql(name=\"krx_info_df\", con=db_engine, if_exists=\"replace\", index=False)"
   ]
  }
 ],
 "metadata": {
  "kernelspec": {
   "display_name": "quant_trading",
   "language": "python",
   "name": "python3"
  },
  "language_info": {
   "codemirror_mode": {
    "name": "ipython",
    "version": 3
   },
   "file_extension": ".py",
   "mimetype": "text/x-python",
   "name": "python",
   "nbconvert_exporter": "python",
   "pygments_lexer": "ipython3",
   "version": "3.10.13"
  }
 },
 "nbformat": 4,
 "nbformat_minor": 2
}
